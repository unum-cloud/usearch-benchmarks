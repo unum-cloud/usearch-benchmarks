{
 "cells": [
  {
   "cell_type": "code",
   "execution_count": null,
   "metadata": {},
   "outputs": [],
   "source": [
    "import numpy as np\n",
    "import plotly.graph_objects as go"
   ]
  },
  {
   "cell_type": "code",
   "execution_count": null,
   "metadata": {},
   "outputs": [],
   "source": [
    "faiss_f32 = np.load(\"stats/FAISS-HNSW-f32-1536d.npz\")\n",
    "faiss_f16 = faiss_f32 # np.load(\"stats/FAISS-HNSW-f16-1536d.npz\")\n",
    "faiss_i8 = faiss_f32 # np.load(\"stats/FAISS-HNSW-i8-1536d.npz\")\n",
    "usearch_f32 = np.load(\"stats/USearch-HNSW-f32-1536d.npz\")\n",
    "usearch_f16 = np.load(\"stats/USearch-HNSW-f16-1536d.npz\")\n",
    "usearch_i8 = np.load(\"stats/USearch-HNSW-i8-1536d.npz\")"
   ]
  },
  {
   "cell_type": "markdown",
   "metadata": {},
   "source": [
    "Every set of benchmarks contains an array called `construction_time` and `search_time`. Each of them contains stats for 1000 benchmark steps constructing and evaluating the performance of 1536-dimensional index of 100 Million entries. So those arrays contain 1000 durations for time intervals in seconds."
   ]
  },
  {
   "cell_type": "code",
   "execution_count": null,
   "metadata": {},
   "outputs": [],
   "source": [
    "for fraction in range(10):\n",
    "    parts_per_fraction = len(faiss_f32['search_time']) // 10\n",
    "    start = parts_per_fraction * fraction\n",
    "    end = start + parts_per_fraction\n",
    "\n",
    "    # Compute the sum construction and search time for each dataset\n",
    "    faiss_f32_search_sum = 1 / np.sum(faiss_f32['search_time'][start:end])\n",
    "    faiss_f16_search_sum = 1 / np.sum(faiss_f16['search_time'][start:end])\n",
    "    faiss_i8_search_sum = 1 / np.sum(faiss_i8['search_time'][start:end])\n",
    "    usearch_f32_search_sum = 1 / np.sum(usearch_f32['search_time'][start:end])\n",
    "    usearch_f16_search_sum = 1 / np.sum(usearch_f16['search_time'][start:end])\n",
    "    usearch_i8_search_sum = 1 / np.sum(usearch_i8['search_time'][start:end])\n",
    "\n",
    "    # Create a horizontal bar chart using Plotly\n",
    "\n",
    "    faiss_sums = [faiss_f32_search_sum, faiss_f16_search_sum, faiss_i8_search_sum]\n",
    "    usearch_sums = [usearch_f32_search_sum, usearch_f16_search_sum, usearch_i8_search_sum]\n",
    "    labels = ['32-bit float', '16-bit float', '8-bit int']\n",
    "\n",
    "    fig = go.Figure()\n",
    "\n",
    "    # Add bars for FAISS\n",
    "    fig.add_trace(go.Bar(\n",
    "        y=labels,\n",
    "        x=faiss_sums,\n",
    "        name='FAISS',\n",
    "        orientation='h'\n",
    "    ))\n",
    "\n",
    "    # Add bars for USearch\n",
    "    fig.add_trace(go.Bar(\n",
    "        y=labels,\n",
    "        x=usearch_sums,\n",
    "        name='USearch',\n",
    "        orientation='h'\n",
    "    ))\n",
    "\n",
    "    # Add annotations for USearch bars\n",
    "    for i, label in enumerate(labels):\n",
    "        ratio = usearch_sums[i] / faiss_sums[i]\n",
    "        fig.add_annotation(dict(\n",
    "            x=usearch_sums[i] / 2, \n",
    "            y=i + 0.18,  # Using the index for precise placement\n",
    "            text=f'USearch: {ratio:.2f}x higher throughput',\n",
    "            font=dict(color=\"white\"),\n",
    "            showarrow=False,\n",
    "            xanchor='center',\n",
    "            yanchor='middle',\n",
    "\n",
    "        ))\n",
    "\n",
    "        # Add \"FAISS\" next to FAISS bars\n",
    "        fig.add_annotation(dict(\n",
    "            x=faiss_sums[i] + (0.15 * faiss_sums[i]),  # Some offset for visual clarity\n",
    "            y=i - 0.18,  # Slight offset to move the annotation up a bit\n",
    "            text=\"FAISS\",\n",
    "            font=dict(color=\"black\"),\n",
    "            showarrow=False,\n",
    "            xanchor='left',\n",
    "            yanchor='middle',\n",
    "        ))\n",
    "\n",
    "        # Add annotations for bar labels on top of each group\n",
    "        fig.add_annotation(dict(\n",
    "            x=0,  # Placing label in the center of the group\n",
    "            y=i + 0.50,  # Slightly above the bars; adjust this for desired position\n",
    "            text=label,\n",
    "            font=dict(color=\"black\", size=14, family=\"Arial, bold\"),\n",
    "            showarrow=False,\n",
    "            xanchor='left',\n",
    "            yanchor='middle',\n",
    "        ))\n",
    "\n",
    "    # Compute the speed comparison ratio\n",
    "    speed_comparison_ratio = usearch_i8_search_sum / faiss_f32_search_sum\n",
    "\n",
    "    # Customize layout\n",
    "    fig.update_layout(\n",
    "        title=dict(\n",
    "            text=f'Search Throughput of USearch vs FAISS on <b>{(fraction+1)*10} Million</b> 1536d Vectors <br> <b>{speed_comparison_ratio:.2f}x</b> performance gap across engines and vector types',\n",
    "            x=0.5, # Center the title\n",
    "            xanchor='center'\n",
    "        ),\n",
    "        barmode='group',\n",
    "        showlegend=False,\n",
    "        plot_bgcolor='white',\n",
    "        paper_bgcolor='white',\n",
    "        height=600,  \n",
    "        width=800,   \n",
    "        bargap=0.3,  # Increases the gap between bars within a group (e.g., 0.15 for a 15% gap)\n",
    "        bargroupgap=0.2,  # Increases the gap between groups (e.g., 0.3 for a 30% gap)\n",
    "        xaxis=dict(\n",
    "            showline=False,\n",
    "            showgrid=False,\n",
    "            zeroline=False,\n",
    "            showticklabels=False\n",
    "        ),\n",
    "        yaxis=dict(\n",
    "            showticklabels=False  # Hiding the original y-axis labels\n",
    "        )\n",
    "    )\n",
    "\n",
    "    fig.show()\n"
   ]
  },
  {
   "cell_type": "code",
   "execution_count": null,
   "metadata": {},
   "outputs": [],
   "source": [
    "np.sum(np.load(\"stats/FAISS-HNSW-f32-1536d.npz\")[\"construction_time\"][:300])"
   ]
  },
  {
   "cell_type": "code",
   "execution_count": null,
   "metadata": {},
   "outputs": [],
   "source": [
    "np.sum(np.load(\"stats/USearch-HNSW-f32-1536d.npz\")[\"construction_time\"][:300])"
   ]
  },
  {
   "cell_type": "code",
   "execution_count": null,
   "metadata": {},
   "outputs": [],
   "source": [
    "np.sum(np.load(\"stats/FAISS-HNSW-f32-1536d.npz\")[\"search_time\"][:400])"
   ]
  },
  {
   "cell_type": "code",
   "execution_count": null,
   "metadata": {},
   "outputs": [],
   "source": [
    "np.sum(np.load(\"stats/USearch-HNSW-f32-1536d.npz\")[\"search_time\"][:400])"
   ]
  },
  {
   "cell_type": "code",
   "execution_count": null,
   "metadata": {},
   "outputs": [],
   "source": [
    "len(np.load(\"stats/FAISS-HNSW-f32-1536d.npz\")[\"search_time\"])"
   ]
  }
 ],
 "metadata": {
  "kernelspec": {
   "display_name": "base",
   "language": "python",
   "name": "python3"
  },
  "language_info": {
   "codemirror_mode": {
    "name": "ipython",
    "version": 3
   },
   "file_extension": ".py",
   "mimetype": "text/x-python",
   "name": "python",
   "nbconvert_exporter": "python",
   "pygments_lexer": "ipython3",
   "version": "3.11.5"
  }
 },
 "nbformat": 4,
 "nbformat_minor": 2
}
